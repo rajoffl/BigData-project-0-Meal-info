{
 "cells": [
  {
   "cell_type": "code",
   "execution_count": 170,
   "id": "98c41c6b",
   "metadata": {},
   "outputs": [],
   "source": [
    "# Importing neccesory libraries\n",
    "import pymongo\n",
    "import json\n",
    "import warnings\n",
    "warnings.filterwarnings('ignore')\n",
    "from pymongo import MongoClient"
   ]
  },
  {
   "cell_type": "code",
   "execution_count": 171,
   "id": "e43e2767",
   "metadata": {},
   "outputs": [],
   "source": [
    "# creation of object MongoClient  \n",
    "client=MongoClient() "
   ]
  },
  {
   "cell_type": "code",
   "execution_count": 172,
   "id": "2c56b1ae",
   "metadata": {},
   "outputs": [],
   "source": [
    "# Connect with the portnumber and host  \n",
    "client = MongoClient('localhost',27017)"
   ]
  },
  {
   "cell_type": "code",
   "execution_count": 173,
   "id": "15be18ef",
   "metadata": {},
   "outputs": [],
   "source": [
    "# Access database \n",
    "Database = client['Project_0']"
   ]
  },
  {
   "cell_type": "code",
   "execution_count": 174,
   "id": "fd1d3d2f",
   "metadata": {},
   "outputs": [],
   "source": [
    "# Access collection of the database\n",
    "Weekly_Demand_Collection = Database.get_collection(\"meal_info\")"
   ]
  },
  {
   "cell_type": "code",
   "execution_count": 175,
   "id": "8bc4e79d",
   "metadata": {
    "scrolled": true
   },
   "outputs": [],
   "source": [
    "# Loading Json data in collections\n",
    "with open('C:\\\\Users\\\\user\\\\Desktop\\\\Revature\\\\meal_info.json') as file:\n",
    "    data = json.load(file)\n",
    "    "
   ]
  },
  {
   "cell_type": "code",
   "execution_count": 176,
   "id": "5c3ba285",
   "metadata": {
    "scrolled": true
   },
   "outputs": [
    {
     "data": {
      "text/plain": [
       "[{'meal_id': 1885, 'category': 'Beverages', 'cuisine': 'Thai'},\n",
       " {'meal_id': 1993, 'category': 'Beverages', 'cuisine': 'Thai'},\n",
       " {'meal_id': 2539, 'category': 'Beverages', 'cuisine': 'Thai'},\n",
       " {'meal_id': 1248, 'category': 'Beverages', 'cuisine': 'Indian'},\n",
       " {'meal_id': 2631, 'category': 'Beverages', 'cuisine': 'Indian'},\n",
       " {'meal_id': 1311, 'category': 'Extras', 'cuisine': 'Thai'},\n",
       " {'meal_id': 1062, 'category': 'Beverages', 'cuisine': 'Italian'},\n",
       " {'meal_id': 1778, 'category': 'Beverages', 'cuisine': 'Italian'},\n",
       " {'meal_id': 1803, 'category': 'Extras', 'cuisine': 'Thai'},\n",
       " {'meal_id': 1198, 'category': 'Extras', 'cuisine': 'Thai'},\n",
       " {'meal_id': 2707, 'category': 'Beverages', 'cuisine': 'Italian'},\n",
       " {'meal_id': 1847, 'category': 'Soup', 'cuisine': 'Thai'},\n",
       " {'meal_id': 1438, 'category': 'Soup', 'cuisine': 'Thai'},\n",
       " {'meal_id': 2494, 'category': 'Soup', 'cuisine': 'Thai'},\n",
       " {'meal_id': 2760, 'category': 'Other Snacks', 'cuisine': 'Thai'},\n",
       " {'meal_id': 2490, 'category': 'Salad', 'cuisine': 'Italian'},\n",
       " {'meal_id': 1109, 'category': 'Rice Bowl', 'cuisine': 'Indian'},\n",
       " {'meal_id': 2290, 'category': 'Rice Bowl', 'cuisine': 'Indian'},\n",
       " {'meal_id': 1525, 'category': 'Other Snacks', 'cuisine': 'Thai'},\n",
       " {'meal_id': 2704, 'category': 'Other Snacks', 'cuisine': 'Thai'},\n",
       " {'meal_id': 1878, 'category': 'Starters', 'cuisine': 'Thai'},\n",
       " {'meal_id': 2640, 'category': 'Starters', 'cuisine': 'Thai'},\n",
       " {'meal_id': 2577, 'category': 'Starters', 'cuisine': 'Thai'},\n",
       " {'meal_id': 1754, 'category': 'Sandwich', 'cuisine': 'Italian'},\n",
       " {'meal_id': 1971, 'category': 'Sandwich', 'cuisine': 'Italian'},\n",
       " {'meal_id': 2306, 'category': 'Pasta', 'cuisine': 'Italian'},\n",
       " {'meal_id': 2139, 'category': 'Beverages', 'cuisine': 'Indian'},\n",
       " {'meal_id': 2826, 'category': 'Sandwich', 'cuisine': 'Italian'},\n",
       " {'meal_id': 2664, 'category': 'Salad', 'cuisine': 'Italian'},\n",
       " {'meal_id': 2569, 'category': 'Salad', 'cuisine': 'Italian'},\n",
       " {'meal_id': 1230, 'category': 'Beverages', 'cuisine': 'Continental'},\n",
       " {'meal_id': 1207, 'category': 'Beverages', 'cuisine': 'Continental'},\n",
       " {'meal_id': 2322, 'category': 'Beverages', 'cuisine': 'Continental'},\n",
       " {'meal_id': 2492, 'category': 'Desert', 'cuisine': 'Indian'},\n",
       " {'meal_id': 1216, 'category': 'Pasta', 'cuisine': 'Italian'},\n",
       " {'meal_id': 1727, 'category': 'Rice Bowl', 'cuisine': 'Indian'},\n",
       " {'meal_id': 1902, 'category': 'Biryani', 'cuisine': 'Indian'},\n",
       " {'meal_id': 1247, 'category': 'Biryani', 'cuisine': 'Indian'},\n",
       " {'meal_id': 2304, 'category': 'Desert', 'cuisine': 'Indian'},\n",
       " {'meal_id': 1543, 'category': 'Desert', 'cuisine': 'Indian'},\n",
       " {'meal_id': 1770, 'category': 'Biryani', 'cuisine': 'Indian'},\n",
       " {'meal_id': 2126, 'category': 'Pasta', 'cuisine': 'Italian'},\n",
       " {'meal_id': 1558, 'category': 'Pizza', 'cuisine': 'Continental'},\n",
       " {'meal_id': 2581, 'category': 'Pizza', 'cuisine': 'Continental'},\n",
       " {'meal_id': 1962, 'category': 'Pizza', 'cuisine': 'Continental'},\n",
       " {'meal_id': 1571, 'category': 'Fish', 'cuisine': 'Continental'},\n",
       " {'meal_id': 2956, 'category': 'Fish', 'cuisine': 'Continental'},\n",
       " {'meal_id': 2104, 'category': 'Fish', 'cuisine': 'Continental'},\n",
       " {'meal_id': 2444, 'category': 'Seafood', 'cuisine': 'Continental'},\n",
       " {'meal_id': 2867, 'category': 'Seafood', 'cuisine': 'Continental'},\n",
       " {'meal_id': 1445, 'category': 'Seafood', 'cuisine': 'Continental'}]"
      ]
     },
     "execution_count": 176,
     "metadata": {},
     "output_type": "execute_result"
    }
   ],
   "source": [
    "data"
   ]
  },
  {
   "cell_type": "code",
   "execution_count": 177,
   "id": "05bfa336",
   "metadata": {},
   "outputs": [
    {
     "data": {
      "text/plain": [
       "<pymongo.results.InsertManyResult at 0x1b6e3087180>"
      ]
     },
     "execution_count": 177,
     "metadata": {},
     "output_type": "execute_result"
    }
   ],
   "source": [
    "# Insert Many\n",
    "Weekly_Demand_Collection.info.insert_many(data)"
   ]
  },
  {
   "cell_type": "code",
   "execution_count": 178,
   "id": "fc404670",
   "metadata": {},
   "outputs": [
    {
     "data": {
      "text/plain": [
       "<pymongo.results.InsertOneResult at 0x1b6e2de1ac0>"
      ]
     },
     "execution_count": 178,
     "metadata": {},
     "output_type": "execute_result"
    }
   ],
   "source": [
    "# insert single document into collection\n",
    "new={'meal_id':1010,'category':\"Seafood\",\"cuisine\":\"italian\"}\n",
    "Weekly_Demand_Collection.info.insert_one(new)"
   ]
  },
  {
   "cell_type": "code",
   "execution_count": 179,
   "id": "79586283",
   "metadata": {},
   "outputs": [
    {
     "data": {
      "text/plain": [
       "{'_id': ObjectId('60ee92c47f28b091f5e9c812'),\n",
       " 'meal_id': 1847,\n",
       " 'category': 'PURE_VEG',\n",
       " 'cuisine': 'Thai'}"
      ]
     },
     "execution_count": 179,
     "metadata": {},
     "output_type": "execute_result"
    }
   ],
   "source": [
    "#Finding a particular item\n",
    "Weekly_Demand_Collection.find_one({'meal_id':1847})"
   ]
  },
  {
   "cell_type": "code",
   "execution_count": 185,
   "id": "995a58a4",
   "metadata": {},
   "outputs": [
    {
     "name": "stdout",
     "output_type": "stream",
     "text": [
      "{'_id': ObjectId('60ee92c47f28b091f5e9c807'), 'meal_id': 1885, 'category': 'PURE_VEG', 'cuisine': 'Thai'}\n",
      "{'_id': ObjectId('60ee92c47f28b091f5e9c808'), 'meal_id': 1993, 'category': 'PURE_VEG', 'cuisine': 'Thai'}\n",
      "{'_id': ObjectId('60ee92c47f28b091f5e9c809'), 'meal_id': 2539, 'category': 'PURE_VEG', 'cuisine': 'Thai'}\n"
     ]
    }
   ],
   "source": [
    "#limit\n",
    "for data in Weekly_Demand_Collection.find().limit(3):\n",
    "   print(data)\n"
   ]
  },
  {
   "cell_type": "code",
   "execution_count": 180,
   "id": "38a6a88a",
   "metadata": {},
   "outputs": [
    {
     "data": {
      "text/plain": [
       "<pymongo.results.UpdateResult at 0x1b6e4bb9340>"
      ]
     },
     "execution_count": 180,
     "metadata": {},
     "output_type": "execute_result"
    }
   ],
   "source": [
    "#Updating one document\n",
    "Weekly_Demand_Collection.update_one({ 'meal_id': '1111' },{'$set':{ 'cuisine': 'Italian' }})"
   ]
  },
  {
   "cell_type": "code",
   "execution_count": 181,
   "id": "17cb3fdc",
   "metadata": {},
   "outputs": [
    {
     "data": {
      "text/plain": [
       "<pymongo.results.UpdateResult at 0x1b6e2de1c00>"
      ]
     },
     "execution_count": 181,
     "metadata": {},
     "output_type": "execute_result"
    }
   ],
   "source": [
    "#Updating many documents\n",
    "Weekly_Demand_Collection.update_many({},{\"$set\":{\"category\":\"PURE_VEG\"}})"
   ]
  },
  {
   "cell_type": "code",
   "execution_count": 184,
   "id": "5cd50d83",
   "metadata": {},
   "outputs": [
    {
     "data": {
      "text/plain": [
       "<pymongo.results.DeleteResult at 0x1b6e315aac0>"
      ]
     },
     "execution_count": 184,
     "metadata": {},
     "output_type": "execute_result"
    }
   ],
   "source": [
    "#Deleting one document\n",
    "Weekly_Demand_Collection.delete_one({\"meal_id\" : \"1445\"})"
   ]
  },
  {
   "cell_type": "code",
   "execution_count": null,
   "id": "c1537c24",
   "metadata": {},
   "outputs": [],
   "source": [
    "#Deleting many documents\n",
    "\n",
    "Meal_collection.delete_many({ \"cuisine\": {\"$regex\": \"^c\"}})"
   ]
  },
  {
   "cell_type": "code",
   "execution_count": null,
   "id": "c3ccbfe3",
   "metadata": {},
   "outputs": [],
   "source": []
  },
  {
   "cell_type": "code",
   "execution_count": null,
   "id": "4663e2b6",
   "metadata": {},
   "outputs": [],
   "source": []
  },
  {
   "cell_type": "code",
   "execution_count": null,
   "id": "6d4a2a14",
   "metadata": {},
   "outputs": [],
   "source": []
  },
  {
   "cell_type": "code",
   "execution_count": null,
   "id": "357dd6af",
   "metadata": {},
   "outputs": [],
   "source": []
  },
  {
   "cell_type": "code",
   "execution_count": null,
   "id": "9fc28533",
   "metadata": {},
   "outputs": [],
   "source": []
  },
  {
   "cell_type": "code",
   "execution_count": null,
   "id": "ef624812",
   "metadata": {},
   "outputs": [],
   "source": [
    "\n"
   ]
  }
 ],
 "metadata": {
  "kernelspec": {
   "display_name": "Python 3",
   "language": "python",
   "name": "python3"
  },
  "language_info": {
   "codemirror_mode": {
    "name": "ipython",
    "version": 3
   },
   "file_extension": ".py",
   "mimetype": "text/x-python",
   "name": "python",
   "nbconvert_exporter": "python",
   "pygments_lexer": "ipython3",
   "version": "3.8.8"
  }
 },
 "nbformat": 4,
 "nbformat_minor": 5
}
